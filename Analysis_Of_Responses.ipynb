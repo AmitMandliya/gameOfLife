{
 "cells": [
  {
   "cell_type": "code",
   "execution_count": 1,
   "metadata": {},
   "outputs": [],
   "source": [
    "import pandas as pd\n",
    "import numpy as np\n",
    "import matplotlib.pyplot as plt\n",
    "from IPython.display import display, Markdown, Latex"
   ]
  },
  {
   "cell_type": "code",
   "execution_count": 2,
   "metadata": {},
   "outputs": [
    {
     "data": {
      "text/html": [
       "<div>\n",
       "<style scoped>\n",
       "    .dataframe tbody tr th:only-of-type {\n",
       "        vertical-align: middle;\n",
       "    }\n",
       "\n",
       "    .dataframe tbody tr th {\n",
       "        vertical-align: top;\n",
       "    }\n",
       "\n",
       "    .dataframe thead th {\n",
       "        text-align: right;\n",
       "    }\n",
       "</style>\n",
       "<table border=\"1\" class=\"dataframe\">\n",
       "  <thead>\n",
       "    <tr style=\"text-align: right;\">\n",
       "      <th></th>\n",
       "      <th>Timestamp</th>\n",
       "      <th>Token</th>\n",
       "      <th>Language</th>\n",
       "      <th>Familiarity</th>\n",
       "      <th>BugsTooObvious</th>\n",
       "      <th>DifficultyLevel</th>\n",
       "      <th>Approach</th>\n",
       "      <th>Problems</th>\n",
       "    </tr>\n",
       "  </thead>\n",
       "  <tbody>\n",
       "    <tr>\n",
       "      <th>0</th>\n",
       "      <td>8/26/2020 12:15:14</td>\n",
       "      <td>v133162</td>\n",
       "      <td>Kotlin</td>\n",
       "      <td>1</td>\n",
       "      <td>No</td>\n",
       "      <td>3</td>\n",
       "      <td>Trace the function which is being called and m...</td>\n",
       "      <td>keywords like repeat instead of while.</td>\n",
       "    </tr>\n",
       "    <tr>\n",
       "      <th>1</th>\n",
       "      <td>8/26/2020 12:27:25</td>\n",
       "      <td>v133162</td>\n",
       "      <td>Go</td>\n",
       "      <td>1</td>\n",
       "      <td>No</td>\n",
       "      <td>4</td>\n",
       "      <td>Follow the GOL rules and flow of execution</td>\n",
       "      <td>weird syntactic rules of giving error when not...</td>\n",
       "    </tr>\n",
       "    <tr>\n",
       "      <th>2</th>\n",
       "      <td>8/28/2020 11:13:35</td>\n",
       "      <td>v297808</td>\n",
       "      <td>Julia</td>\n",
       "      <td>1</td>\n",
       "      <td>No</td>\n",
       "      <td>3</td>\n",
       "      <td>Familiarity with the actual algorithm</td>\n",
       "      <td>I didn't know indices start from 1</td>\n",
       "    </tr>\n",
       "    <tr>\n",
       "      <th>3</th>\n",
       "      <td>8/28/2020 11:39:29</td>\n",
       "      <td>v297808</td>\n",
       "      <td>Kotlin</td>\n",
       "      <td>1</td>\n",
       "      <td>No</td>\n",
       "      <td>4</td>\n",
       "      <td>Trying to understand the anomalies with the ou...</td>\n",
       "      <td>Did not have any language specific problems, t...</td>\n",
       "    </tr>\n",
       "    <tr>\n",
       "      <th>4</th>\n",
       "      <td>8/27/2020 19:38:22</td>\n",
       "      <td>v326525</td>\n",
       "      <td>Julia</td>\n",
       "      <td>1</td>\n",
       "      <td>No</td>\n",
       "      <td>3</td>\n",
       "      <td>Stable state was not found even after running ...</td>\n",
       "      <td>None</td>\n",
       "    </tr>\n",
       "  </tbody>\n",
       "</table>\n",
       "</div>"
      ],
      "text/plain": [
       "            Timestamp    Token Language  Familiarity BugsTooObvious  \\\n",
       "0  8/26/2020 12:15:14  v133162   Kotlin            1             No   \n",
       "1  8/26/2020 12:27:25  v133162       Go            1             No   \n",
       "2  8/28/2020 11:13:35  v297808    Julia            1             No   \n",
       "3  8/28/2020 11:39:29  v297808   Kotlin            1             No   \n",
       "4  8/27/2020 19:38:22  v326525    Julia            1             No   \n",
       "\n",
       "   DifficultyLevel                                           Approach  \\\n",
       "0                3  Trace the function which is being called and m...   \n",
       "1                4         Follow the GOL rules and flow of execution   \n",
       "2                3              Familiarity with the actual algorithm   \n",
       "3                4  Trying to understand the anomalies with the ou...   \n",
       "4                3  Stable state was not found even after running ...   \n",
       "\n",
       "                                            Problems  \n",
       "0             keywords like repeat instead of while.  \n",
       "1  weird syntactic rules of giving error when not...  \n",
       "2                 I didn't know indices start from 1  \n",
       "3  Did not have any language specific problems, t...  \n",
       "4                                               None  "
      ]
     },
     "execution_count": 2,
     "metadata": {},
     "output_type": "execute_result"
    }
   ],
   "source": [
    "columns = [\"Timestamp\", \"Token\", \"Language\", \"Familiarity\", \"BugsTooObvious\", \"DifficultyLevel\", \"Approach\", \"Problems\"]\n",
    "responses = pd.read_csv(\"responses.csv\")\n",
    "responses.columns = columns\n",
    "responses.head()"
   ]
  },
  {
   "cell_type": "code",
   "execution_count": 3,
   "metadata": {},
   "outputs": [
    {
     "data": {
      "text/html": [
       "<div>\n",
       "<style scoped>\n",
       "    .dataframe tbody tr th:only-of-type {\n",
       "        vertical-align: middle;\n",
       "    }\n",
       "\n",
       "    .dataframe tbody tr th {\n",
       "        vertical-align: top;\n",
       "    }\n",
       "\n",
       "    .dataframe thead th {\n",
       "        text-align: right;\n",
       "    }\n",
       "</style>\n",
       "<table border=\"1\" class=\"dataframe\">\n",
       "  <thead>\n",
       "    <tr style=\"text-align: right;\">\n",
       "      <th></th>\n",
       "      <th>Token</th>\n",
       "      <th>Language</th>\n",
       "      <th>NoOfExecutions</th>\n",
       "      <th>TimeToFirstBug</th>\n",
       "      <th>GoogleSearches</th>\n",
       "    </tr>\n",
       "  </thead>\n",
       "  <tbody>\n",
       "    <tr>\n",
       "      <th>0</th>\n",
       "      <td>v133162</td>\n",
       "      <td>Kotlin</td>\n",
       "      <td>2</td>\n",
       "      <td>6</td>\n",
       "      <td>0</td>\n",
       "    </tr>\n",
       "    <tr>\n",
       "      <th>1</th>\n",
       "      <td>v133162</td>\n",
       "      <td>Go</td>\n",
       "      <td>4</td>\n",
       "      <td>4</td>\n",
       "      <td>0</td>\n",
       "    </tr>\n",
       "    <tr>\n",
       "      <th>2</th>\n",
       "      <td>v258389</td>\n",
       "      <td>Kotlin</td>\n",
       "      <td>3</td>\n",
       "      <td>20</td>\n",
       "      <td>1</td>\n",
       "    </tr>\n",
       "    <tr>\n",
       "      <th>3</th>\n",
       "      <td>v464221</td>\n",
       "      <td>Go</td>\n",
       "      <td>6</td>\n",
       "      <td>18</td>\n",
       "      <td>3</td>\n",
       "    </tr>\n",
       "    <tr>\n",
       "      <th>4</th>\n",
       "      <td>v927906</td>\n",
       "      <td>Kotlin</td>\n",
       "      <td>6</td>\n",
       "      <td>11</td>\n",
       "      <td>0</td>\n",
       "    </tr>\n",
       "  </tbody>\n",
       "</table>\n",
       "</div>"
      ],
      "text/plain": [
       "     Token Language  NoOfExecutions  TimeToFirstBug  GoogleSearches\n",
       "0  v133162   Kotlin               2               6               0\n",
       "1  v133162       Go               4               4               0\n",
       "2  v258389   Kotlin               3              20               1\n",
       "3  v464221       Go               6              18               3\n",
       "4  v927906   Kotlin               6              11               0"
      ]
     },
     "execution_count": 3,
     "metadata": {},
     "output_type": "execute_result"
    }
   ],
   "source": [
    "columns = [\"Token\", \"Language\", \"NoOfExecutions\", \"TimeToFirstBug\", \"GoogleSearches\"]\n",
    "manualDoc = pd.read_csv(\"ManualDocumentation.csv\", usecols=columns)\n",
    "manualDoc.head()"
   ]
  },
  {
   "cell_type": "code",
   "execution_count": 4,
   "metadata": {},
   "outputs": [
    {
     "data": {
      "text/html": [
       "<div>\n",
       "<style scoped>\n",
       "    .dataframe tbody tr th:only-of-type {\n",
       "        vertical-align: middle;\n",
       "    }\n",
       "\n",
       "    .dataframe tbody tr th {\n",
       "        vertical-align: top;\n",
       "    }\n",
       "\n",
       "    .dataframe thead th {\n",
       "        text-align: right;\n",
       "    }\n",
       "</style>\n",
       "<table border=\"1\" class=\"dataframe\">\n",
       "  <thead>\n",
       "    <tr style=\"text-align: right;\">\n",
       "      <th></th>\n",
       "      <th>Timestamp</th>\n",
       "      <th>Token</th>\n",
       "      <th>Language</th>\n",
       "      <th>Familiarity</th>\n",
       "      <th>BugsTooObvious</th>\n",
       "      <th>DifficultyLevel</th>\n",
       "      <th>Approach</th>\n",
       "      <th>Problems</th>\n",
       "      <th>NoOfExecutions</th>\n",
       "      <th>TimeToFirstBug</th>\n",
       "      <th>GoogleSearches</th>\n",
       "    </tr>\n",
       "  </thead>\n",
       "  <tbody>\n",
       "    <tr>\n",
       "      <th>0</th>\n",
       "      <td>8/26/2020 12:15:14</td>\n",
       "      <td>v133162</td>\n",
       "      <td>Kotlin</td>\n",
       "      <td>1</td>\n",
       "      <td>No</td>\n",
       "      <td>3</td>\n",
       "      <td>Trace the function which is being called and m...</td>\n",
       "      <td>keywords like repeat instead of while.</td>\n",
       "      <td>2</td>\n",
       "      <td>6</td>\n",
       "      <td>0</td>\n",
       "    </tr>\n",
       "    <tr>\n",
       "      <th>1</th>\n",
       "      <td>8/26/2020 12:27:25</td>\n",
       "      <td>v133162</td>\n",
       "      <td>Go</td>\n",
       "      <td>1</td>\n",
       "      <td>No</td>\n",
       "      <td>4</td>\n",
       "      <td>Follow the GOL rules and flow of execution</td>\n",
       "      <td>weird syntactic rules of giving error when not...</td>\n",
       "      <td>4</td>\n",
       "      <td>4</td>\n",
       "      <td>0</td>\n",
       "    </tr>\n",
       "    <tr>\n",
       "      <th>2</th>\n",
       "      <td>8/28/2020 11:13:35</td>\n",
       "      <td>v297808</td>\n",
       "      <td>Julia</td>\n",
       "      <td>1</td>\n",
       "      <td>No</td>\n",
       "      <td>3</td>\n",
       "      <td>Familiarity with the actual algorithm</td>\n",
       "      <td>I didn't know indices start from 1</td>\n",
       "      <td>3</td>\n",
       "      <td>8</td>\n",
       "      <td>0</td>\n",
       "    </tr>\n",
       "    <tr>\n",
       "      <th>3</th>\n",
       "      <td>8/28/2020 11:39:29</td>\n",
       "      <td>v297808</td>\n",
       "      <td>Kotlin</td>\n",
       "      <td>1</td>\n",
       "      <td>No</td>\n",
       "      <td>4</td>\n",
       "      <td>Trying to understand the anomalies with the ou...</td>\n",
       "      <td>Did not have any language specific problems, t...</td>\n",
       "      <td>3</td>\n",
       "      <td>2</td>\n",
       "      <td>1</td>\n",
       "    </tr>\n",
       "    <tr>\n",
       "      <th>4</th>\n",
       "      <td>8/27/2020 19:38:22</td>\n",
       "      <td>v326525</td>\n",
       "      <td>Julia</td>\n",
       "      <td>1</td>\n",
       "      <td>No</td>\n",
       "      <td>3</td>\n",
       "      <td>Stable state was not found even after running ...</td>\n",
       "      <td>None</td>\n",
       "      <td>6</td>\n",
       "      <td>1</td>\n",
       "      <td>0</td>\n",
       "    </tr>\n",
       "  </tbody>\n",
       "</table>\n",
       "</div>"
      ],
      "text/plain": [
       "            Timestamp    Token Language  Familiarity BugsTooObvious  \\\n",
       "0  8/26/2020 12:15:14  v133162   Kotlin            1             No   \n",
       "1  8/26/2020 12:27:25  v133162       Go            1             No   \n",
       "2  8/28/2020 11:13:35  v297808    Julia            1             No   \n",
       "3  8/28/2020 11:39:29  v297808   Kotlin            1             No   \n",
       "4  8/27/2020 19:38:22  v326525    Julia            1             No   \n",
       "\n",
       "   DifficultyLevel                                           Approach  \\\n",
       "0                3  Trace the function which is being called and m...   \n",
       "1                4         Follow the GOL rules and flow of execution   \n",
       "2                3              Familiarity with the actual algorithm   \n",
       "3                4  Trying to understand the anomalies with the ou...   \n",
       "4                3  Stable state was not found even after running ...   \n",
       "\n",
       "                                            Problems  NoOfExecutions  \\\n",
       "0             keywords like repeat instead of while.               2   \n",
       "1  weird syntactic rules of giving error when not...               4   \n",
       "2                 I didn't know indices start from 1               3   \n",
       "3  Did not have any language specific problems, t...               3   \n",
       "4                                               None               6   \n",
       "\n",
       "   TimeToFirstBug  GoogleSearches  \n",
       "0               6               0  \n",
       "1               4               0  \n",
       "2               8               0  \n",
       "3               2               1  \n",
       "4               1               0  "
      ]
     },
     "execution_count": 4,
     "metadata": {},
     "output_type": "execute_result"
    }
   ],
   "source": [
    "merged = pd.merge(responses, manualDoc, how = 'left', left_on = ['Token', 'Language'], right_on = ['Token', 'Language'])\n",
    "merged.head()"
   ]
  },
  {
   "cell_type": "code",
   "execution_count": 5,
   "metadata": {},
   "outputs": [],
   "source": [
    "kotlin = merged[merged.Language == \"Kotlin\"]\n",
    "go = merged[merged.Language == \"Go\"]\n",
    "julia = merged[merged.Language == \"Julia\"]\n",
    "\n",
    "languages = [kotlin, go, julia]"
   ]
  },
  {
   "cell_type": "code",
   "execution_count": 6,
   "metadata": {},
   "outputs": [
    {
     "data": {
      "text/markdown": [
       "## Statistics for Kotlin: "
      ],
      "text/plain": [
       "<IPython.core.display.Markdown object>"
      ]
     },
     "metadata": {},
     "output_type": "display_data"
    },
    {
     "data": {
      "text/markdown": [
       "Number of **Observations**: 8"
      ],
      "text/plain": [
       "<IPython.core.display.Markdown object>"
      ]
     },
     "metadata": {},
     "output_type": "display_data"
    },
    {
     "data": {
      "text/markdown": [
       "Median **Familiarity** is: 1.0"
      ],
      "text/plain": [
       "<IPython.core.display.Markdown object>"
      ]
     },
     "metadata": {},
     "output_type": "display_data"
    },
    {
     "data": {
      "text/markdown": [
       "Median **Difficulty** is: 3.0"
      ],
      "text/plain": [
       "<IPython.core.display.Markdown object>"
      ]
     },
     "metadata": {},
     "output_type": "display_data"
    },
    {
     "data": {
      "text/markdown": [
       "Mean **Time required to solve first bug** is: 7.75"
      ],
      "text/plain": [
       "<IPython.core.display.Markdown object>"
      ]
     },
     "metadata": {},
     "output_type": "display_data"
    },
    {
     "data": {
      "text/markdown": [
       "Mean **number of executions** is: 3.88"
      ],
      "text/plain": [
       "<IPython.core.display.Markdown object>"
      ]
     },
     "metadata": {},
     "output_type": "display_data"
    },
    {
     "data": {
      "text/markdown": [
       "\n"
      ],
      "text/plain": [
       "<IPython.core.display.Markdown object>"
      ]
     },
     "metadata": {},
     "output_type": "display_data"
    },
    {
     "data": {
      "text/markdown": [
       "## Statistics for Go: "
      ],
      "text/plain": [
       "<IPython.core.display.Markdown object>"
      ]
     },
     "metadata": {},
     "output_type": "display_data"
    },
    {
     "data": {
      "text/markdown": [
       "Number of **Observations**: 5"
      ],
      "text/plain": [
       "<IPython.core.display.Markdown object>"
      ]
     },
     "metadata": {},
     "output_type": "display_data"
    },
    {
     "data": {
      "text/markdown": [
       "Median **Familiarity** is: 2.0"
      ],
      "text/plain": [
       "<IPython.core.display.Markdown object>"
      ]
     },
     "metadata": {},
     "output_type": "display_data"
    },
    {
     "data": {
      "text/markdown": [
       "Median **Difficulty** is: 3.0"
      ],
      "text/plain": [
       "<IPython.core.display.Markdown object>"
      ]
     },
     "metadata": {},
     "output_type": "display_data"
    },
    {
     "data": {
      "text/markdown": [
       "Mean **Time required to solve first bug** is: 6.2"
      ],
      "text/plain": [
       "<IPython.core.display.Markdown object>"
      ]
     },
     "metadata": {},
     "output_type": "display_data"
    },
    {
     "data": {
      "text/markdown": [
       "Mean **number of executions** is: 4.2"
      ],
      "text/plain": [
       "<IPython.core.display.Markdown object>"
      ]
     },
     "metadata": {},
     "output_type": "display_data"
    },
    {
     "data": {
      "text/markdown": [
       "\n"
      ],
      "text/plain": [
       "<IPython.core.display.Markdown object>"
      ]
     },
     "metadata": {},
     "output_type": "display_data"
    },
    {
     "data": {
      "text/markdown": [
       "## Statistics for Julia: "
      ],
      "text/plain": [
       "<IPython.core.display.Markdown object>"
      ]
     },
     "metadata": {},
     "output_type": "display_data"
    },
    {
     "data": {
      "text/markdown": [
       "Number of **Observations**: 7"
      ],
      "text/plain": [
       "<IPython.core.display.Markdown object>"
      ]
     },
     "metadata": {},
     "output_type": "display_data"
    },
    {
     "data": {
      "text/markdown": [
       "Median **Familiarity** is: 1.0"
      ],
      "text/plain": [
       "<IPython.core.display.Markdown object>"
      ]
     },
     "metadata": {},
     "output_type": "display_data"
    },
    {
     "data": {
      "text/markdown": [
       "Median **Difficulty** is: 3.0"
      ],
      "text/plain": [
       "<IPython.core.display.Markdown object>"
      ]
     },
     "metadata": {},
     "output_type": "display_data"
    },
    {
     "data": {
      "text/markdown": [
       "Mean **Time required to solve first bug** is: 5.71"
      ],
      "text/plain": [
       "<IPython.core.display.Markdown object>"
      ]
     },
     "metadata": {},
     "output_type": "display_data"
    },
    {
     "data": {
      "text/markdown": [
       "Mean **number of executions** is: 4.0"
      ],
      "text/plain": [
       "<IPython.core.display.Markdown object>"
      ]
     },
     "metadata": {},
     "output_type": "display_data"
    },
    {
     "data": {
      "text/markdown": [
       "\n"
      ],
      "text/plain": [
       "<IPython.core.display.Markdown object>"
      ]
     },
     "metadata": {},
     "output_type": "display_data"
    }
   ],
   "source": [
    "langs = [\"Kotlin\", \"Go\", \"Julia\"]\n",
    "i = 0\n",
    "for language in languages:\n",
    "    lang = langs[i]\n",
    "    i = i + 1\n",
    "    median_familiarity = np.median(language.Familiarity)\n",
    "    median_difficulty = np.median(language.DifficultyLevel)\n",
    "    avg_time_to_firstbug = np.mean(language.TimeToFirstBug)\n",
    "    avg_no_of_exec = np.mean(language.NoOfExecutions)\n",
    "    display(Markdown(\"## Statistics for \" + lang + \": \"))\n",
    "    display(Markdown(\"Number of **Observations**: \" + str(len(language))))\n",
    "    display(Markdown(\"Median **Familiarity** is: \" + str(median_familiarity)))\n",
    "    display(Markdown(\"Median **Difficulty** is: \" + str(median_difficulty)))\n",
    "    display(Markdown(\"Mean **Time required to solve first bug** is: \" + str(round(avg_time_to_firstbug, 2))))\n",
    "    display(Markdown(\"Mean **number of executions** is: \" + str(round(avg_no_of_exec, 2))))\n",
    "    display(Markdown(\"\\n\"))"
   ]
  },
  {
   "cell_type": "markdown",
   "metadata": {},
   "source": [
    "## From the above statistics, it can be concluded that:\n",
    "1. Mean time required to solve the first bug was the maximum in **Kotlin**\n",
    "2. In comparison with other languages, **Go** had the more number of users with high familiarity."
   ]
  },
  {
   "cell_type": "code",
   "execution_count": 7,
   "metadata": {},
   "outputs": [
    {
     "data": {
      "image/png": "[encoded data removed]",
      "text/plain": [
       "<Figure size 1656x1440 with 12 Axes>"
      ]
     },
     "metadata": {
      "needs_background": "light"
     },
     "output_type": "display_data"
    }
   ],
   "source": [
    "langs = [\"Kotlin\", \"Go\", \"Julia\"]\n",
    "i = 0\n",
    "fig, axes = plt.subplots(4, 3, figsize = (23, 20))\n",
    "for language in languages:\n",
    "    lang = langs[i]\n",
    "    \n",
    "    labels = []\n",
    "    data = []\n",
    "    for c, df in language.groupby(\"Familiarity\"):\n",
    "        labels.append(c)\n",
    "        data.append(len(df))\n",
    "    axes[(i // 4), i].pie(data, labels = labels, autopct='%1.2f%%')\n",
    "    axes[(i // 4), i].set_title(\"Familiarity for \" + lang)\n",
    "    \n",
    "    labels = []\n",
    "    data = [] \n",
    "    for c, df in language.groupby(\"BugsTooObvious\"):\n",
    "        labels.append(c)\n",
    "        data.append(len(df))\n",
    "    axes[(i // 4) + 1, i].pie(data, labels = labels, autopct='%1.2f%%')\n",
    "    axes[(i // 4) + 1, i].set_title(\"Were the bugs to obvious in \" + lang)\n",
    "    \n",
    "    labels = []\n",
    "    data = []\n",
    "    for c, df in language.groupby(\"DifficultyLevel\"):\n",
    "        labels.append(c)\n",
    "        data.append(len(df))\n",
    "    axes[(i // 4) + 2, i].pie(data, labels = labels, autopct='%1.2f%%')\n",
    "    axes[(i // 4) + 2, i].set_title(\"Difficulty Level of bugs in \" + lang)\n",
    "    \n",
    "    axes[(i // 4) + 3, i].set_ylim(0, 3)\n",
    "    axes[(i // 4) + 3, i].hist(language[\"TimeToFirstBug\"])\n",
    "    axes[(i // 4) + 3, i].set_title(\"Histogram for time taken to find 1st bug (time vs #users) in \" + lang)\n",
    "    \n",
    "    i = i + 1\n",
    "      \n",
    "plt.show()"
   ]
  },
  {
   "cell_type": "markdown",
   "metadata": {},
   "source": [
    "## From the above graphs, it can be concluded that:\n",
    "1. **Go** was the most familiar language and **Julia** was the least familiar language.\n",
    "2. **Kotlin** had the least obvious bugs.\n",
    "3. In general, difficulty level of bugs in **Kotlin** was more than other languages.\n",
    "4. More number of users took longer times in **Kotlin** as compared to other languages."
   ]
  },
  {
   "cell_type": "code",
   "execution_count": 8,
   "metadata": {},
   "outputs": [
    {
     "name": "stdout",
     "output_type": "stream",
     "text": [
      "Language :   Kotlin   Time to solve first bug : 6\n",
      "Language :   Go   Time to solve first bug : 4\n",
      "\n",
      "\n",
      "Language :   Julia   Time to solve first bug : 8\n",
      "Language :   Kotlin   Time to solve first bug : 2\n",
      "\n",
      "\n",
      "Language :   Julia   Time to solve first bug : 1\n",
      "Language :   Kotlin   Time to solve first bug : 4\n",
      "\n",
      "\n",
      "Language :   Go   Time to solve first bug : 4\n",
      "Language :   Julia   Time to solve first bug : 2\n",
      "Language :   Kotlin   Time to solve first bug : 4\n",
      "\n",
      "\n",
      "Language :   Julia   Time to solve first bug : 5\n",
      "Language :   Kotlin   Time to solve first bug : 11\n",
      "\n",
      "\n",
      "Language :   Julia   Time to solve first bug : 10\n",
      "Language :   Kotlin   Time to solve first bug : 4\n",
      "Language :   Go   Time to solve first bug : 2\n",
      "\n",
      "\n"
     ]
    }
   ],
   "source": [
    "for t, df in merged.groupby('Token'):\n",
    "    if len(df) > 1:\n",
    "        for f, df1 in df.groupby('Familiarity'):\n",
    "            if len(df1) > 1:\n",
    "                for idx, row in df1.iterrows():\n",
    "                    print('Language :   ' + row[\"Language\"] + '   Time to solve first bug : ' + str(row[\"TimeToFirstBug\"]))\n",
    "                print(\"\\n\")"
   ]
  },
  {
   "cell_type": "markdown",
   "metadata": {},
   "source": [
    "## From the above observations, it can be concluded that:\n",
    "\n",
    "| Equally familiar languages | List of language which took longer time for all observations |\n",
    "|---|---|\n",
    "| Kotlin, Go | Kotlin |\n",
    "| Julia, Kotlin | Julia, Kotlin, Kotlin |\n",
    "| Go, Julia, Kotlin | (Kotlin, Go), Julia  |\n",
    "\n",
    "Observing the table, it can be concluded that based on time, **Kotlin** was the most difficult language to debug."
   ]
  },
  {
   "cell_type": "markdown",
   "metadata": {},
   "source": [
    "## Considering all the observations until now, it can be concluded that **Kotlin** was the most difficult language to debug."
   ]
  }
 ],
 "metadata": {
  "kernelspec": {
   "display_name": "Python 3",
   "language": "python",
   "name": "python3"
  },
  "language_info": {
   "codemirror_mode": {
    "name": "ipython",
    "version": 3
   },
   "file_extension": ".py",
   "mimetype": "text/x-python",
   "name": "python",
   "nbconvert_exporter": "python",
   "pygments_lexer": "ipython3",
   "version": "3.7.6"
  }
 },
 "nbformat": 4,
 "nbformat_minor": 4
}
